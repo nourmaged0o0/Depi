{
  "cells": [
    {
      "cell_type": "code",
      "execution_count": null,
      "metadata": {
        "id": "grXBAaU9-mxF"
      },
      "outputs": [],
      "source": [
        "import sqlite3"
      ]
    },
    {
      "cell_type": "code",
      "execution_count": null,
      "metadata": {
        "id": "8WuGhfQb-mxH"
      },
      "outputs": [],
      "source": [
        "# Create connection\n",
        "conn = sqlite3.connect('school.db')\n",
        "cursor = conn.cursor()"
      ]
    },
    {
      "cell_type": "code",
      "execution_count": null,
      "metadata": {
        "colab": {
          "base_uri": "https://localhost:8080/"
        },
        "id": "McdcCJUN-mxI",
        "outputId": "7888052e-47c4-494b-b9a2-6c444a0183a3"
      },
      "outputs": [
        {
          "output_type": "execute_result",
          "data": {
            "text/plain": [
              "<sqlite3.Cursor at 0x7b1ddcac27c0>"
            ]
          },
          "metadata": {},
          "execution_count": 22
        }
      ],
      "source": [
        "# Create tables\n",
        "cursor.execute('''CREATE TABLE IF NOT EXISTS students ( id INTEGER PRIMARY KEY AUTOINCREMENT, name TEXT, age INTEGER, gender TEXT )''')\n",
        "cursor.execute('''CREATE TABLE IF NOT EXISTS courses ( id INTEGER PRIMARY KEY AUTOINCREMENT, name TEXT, credits INTEGER )''')\n",
        "cursor.execute('''CREATE TABLE IF NOT EXISTS enrollments ( id INTEGER PRIMARY KEY AUTOINCREMENT, student_id INTEGER, course_id INTEGER, grade REAL, FOREIGN KEY(student_id) REFERENCES students(id), FOREIGN KEY(course_id) REFERENCES courses(id) )''')"
      ]
    },
    {
      "cell_type": "code",
      "execution_count": null,
      "metadata": {
        "id": "GTToVcYD-mxK"
      },
      "outputs": [],
      "source": [
        "# Insert sample data\n",
        "\n",
        "cursor.executemany('INSERT INTO students (name, age, gender) VALUES (?, ?, ?)', [\n",
        "\n",
        "('Alice', 22, 'F'),\n",
        "\n",
        "('Bob', 20, 'M'),\n",
        "\n",
        "('Charlie', 23, 'M')\n",
        "\n",
        "])\n",
        "\n",
        "\n",
        "cursor.executemany('INSERT INTO courses (name, credits) VALUES (?, ?)', [\n",
        "\n",
        "('Math', 3),\n",
        "\n",
        "('Science', 4),\n",
        "\n",
        "('History', 2)\n",
        "\n",
        "])\n",
        "\n",
        "\n",
        "cursor.executemany('INSERT INTO enrollments (student_id, course_id, grade) VALUES (?, ?, ?)', [\n",
        "\n",
        "(1, 1, 85),\n",
        "\n",
        "(1, 2, 90),\n",
        "\n",
        "(2, 1, 78),\n",
        "\n",
        "(3, 3, 88)\n",
        "\n",
        "])\n",
        "\n",
        "\n",
        "conn.commit()"
      ]
    },
    {
      "cell_type": "code",
      "execution_count": null,
      "metadata": {
        "colab": {
          "base_uri": "https://localhost:8080/"
        },
        "id": "1_HATLnf-mxK",
        "outputId": "0d7b1a1e-cfc6-4b7d-d5aa-5a0e3ac1af8b"
      },
      "outputs": [
        {
          "output_type": "execute_result",
          "data": {
            "text/plain": [
              "<sqlite3.Cursor at 0x7b1ddcac27c0>"
            ]
          },
          "metadata": {},
          "execution_count": 24
        }
      ],
      "source": [
        "cursor.execute('SELECT * FROM students')"
      ]
    },
    {
      "cell_type": "code",
      "execution_count": null,
      "metadata": {
        "colab": {
          "base_uri": "https://localhost:8080/"
        },
        "id": "65ATm72r-mxL",
        "outputId": "0bae9e4a-21b8-423b-e91c-192dab462a48"
      },
      "outputs": [
        {
          "output_type": "stream",
          "name": "stdout",
          "text": [
            "[(1, 'Alice', 22, 'F'), (2, 'Bob', 20, 'M'), (3, 'Charlie', 23, 'M'), (4, 'David', 21, 'M'), (5, 'Alice', 22, 'F'), (6, 'Bob', 20, 'M'), (7, 'Charlie', 23, 'M')]\n"
          ]
        }
      ],
      "source": [
        "print(cursor.fetchall())"
      ]
    },
    {
      "cell_type": "code",
      "source": [
        "cursor.execute('INSERT INTO students (name, age, gender) VALUES (?, ?, ?)', ('David', 21, 'M'))\n",
        "conn.commit()"
      ],
      "metadata": {
        "id": "Aj_il59KAB6q"
      },
      "execution_count": null,
      "outputs": []
    },
    {
      "cell_type": "code",
      "source": [
        "cursor.execute('SELECT * FROM students WHERE age > 21')\n",
        "print(cursor.fetchall())"
      ],
      "metadata": {
        "colab": {
          "base_uri": "https://localhost:8080/"
        },
        "id": "fkCM0IgmCgy2",
        "outputId": "fcbf5713-9525-43e8-fdba-d0d3eedfe4ec"
      },
      "execution_count": null,
      "outputs": [
        {
          "output_type": "stream",
          "name": "stdout",
          "text": [
            "[(1, 'Alice', 22, 'F'), (3, 'Charlie', 23, 'M'), (5, 'Alice', 22, 'F'), (7, 'Charlie', 23, 'M')]\n"
          ]
        }
      ]
    },
    {
      "cell_type": "code",
      "source": [
        "# Retrieve students with grades between 80 and 90\n",
        "\n",
        "cursor.execute('''SELECT s.name, e.grade\n",
        "\n",
        "FROM students s\n",
        "\n",
        "JOIN enrollments e ON s.id = e.student_id\n",
        "\n",
        "WHERE e.grade BETWEEN 80 AND 90''')\n",
        "\n",
        "print(cursor.fetchall())"
      ],
      "metadata": {
        "colab": {
          "base_uri": "https://localhost:8080/"
        },
        "id": "9D5xOAE3DJnQ",
        "outputId": "f8b43c04-e1a0-4189-b119-c3ce6bbb5126"
      },
      "execution_count": null,
      "outputs": [
        {
          "output_type": "stream",
          "name": "stdout",
          "text": [
            "[('Alice', 85.0), ('Alice', 90.0), ('Charlie', 88.0), ('Alice', 85.0), ('Alice', 90.0), ('Charlie', 88.0)]\n"
          ]
        }
      ]
    },
    {
      "cell_type": "code",
      "source": [
        "# Total credits for each course\n",
        "\n",
        "cursor.execute(\"SELECT name, credits FROM courses\")\n",
        "\n",
        "print(cursor.fetchall())"
      ],
      "metadata": {
        "colab": {
          "base_uri": "https://localhost:8080/"
        },
        "id": "qdn_aZqgLaF2",
        "outputId": "d642c21c-5376-4b6d-e0e3-33a17abf07e6"
      },
      "execution_count": null,
      "outputs": [
        {
          "output_type": "stream",
          "name": "stdout",
          "text": [
            "[('Math', 3), ('Science', 4), ('History', 2), ('Math', 3), ('Science', 4), ('History', 2)]\n"
          ]
        }
      ]
    },
    {
      "cell_type": "code",
      "source": [
        "cursor.execute('''\n",
        "  SELECT s.name\n",
        "  FROM students s\n",
        "  JOIN enrollments e ON s.id = e.student_id\n",
        "  JOIN courses c ON e.course_id = c.id\n",
        "  WHERE c.name = 'Math' AND e.grade > 80\n",
        "''')\n",
        "print(cursor.fetchall())\n",
        "\n"
      ],
      "metadata": {
        "colab": {
          "base_uri": "https://localhost:8080/"
        },
        "id": "rjY9m5sgUGG5",
        "outputId": "970383a5-4754-4fb8-f5db-cef256deb544"
      },
      "execution_count": null,
      "outputs": [
        {
          "output_type": "stream",
          "name": "stdout",
          "text": [
            "[('Alice',), ('Alice',)]\n"
          ]
        }
      ]
    },
    {
      "cell_type": "code",
      "source": [
        "\n",
        "cursor.execute('''\n",
        "    SELECT s.name, COUNT(e.course_id) AS num_courses\n",
        "    FROM students s\n",
        "    JOIN enrollments e ON s.id = e.student_id\n",
        "    GROUP BY s.id\n",
        "''')\n",
        "print(cursor.fetchall())\n"
      ],
      "metadata": {
        "colab": {
          "base_uri": "https://localhost:8080/"
        },
        "id": "0gBPwTH9UejJ",
        "outputId": "c017014a-6ec5-42c5-cbeb-be0e0d3edfb3"
      },
      "execution_count": null,
      "outputs": [
        {
          "output_type": "stream",
          "name": "stdout",
          "text": [
            "[('Alice', 4), ('Bob', 2), ('Charlie', 2)]\n"
          ]
        }
      ]
    }
  ],
  "metadata": {
    "kernelspec": {
      "display_name": "base",
      "language": "python",
      "name": "python3"
    },
    "language_info": {
      "codemirror_mode": {
        "name": "ipython",
        "version": 3
      },
      "file_extension": ".py",
      "mimetype": "text/x-python",
      "name": "python",
      "nbconvert_exporter": "python",
      "pygments_lexer": "ipython3",
      "version": "3.12.4"
    },
    "colab": {
      "provenance": []
    }
  },
  "nbformat": 4,
  "nbformat_minor": 0
}