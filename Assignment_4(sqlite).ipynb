{
  "cells": [
    {
      "cell_type": "code",
      "execution_count": 12,
      "id": "9d286748",
      "metadata": {
        "colab": {
          "base_uri": "https://localhost:8080/"
        },
        "id": "9d286748",
        "outputId": "09f0bff9-8c91-4090-9f64-c00f75965a48"
      },
      "outputs": [
        {
          "output_type": "execute_result",
          "data": {
            "text/plain": [
              "<sqlite3.Cursor at 0x7dd96f263bc0>"
            ]
          },
          "metadata": {},
          "execution_count": 12
        }
      ],
      "source": [
        "\n",
        "import sqlite3\n",
        "\n",
        "connection = sqlite3.connect('example.db')\n",
        "cursor = connection.cursor()\n",
        "\n",
        "# Create sample tables and insert data\n",
        "cursor.execute(\"\"\"\n",
        "CREATE TABLE IF NOT EXISTS employees (\n",
        "    emp_id INTEGER PRIMARY KEY,\n",
        "    name TEXT,\n",
        "    last_name TEXT,\n",
        "    salary REAL,\n",
        "    manager_id INTEGER,\n",
        "    department_id INTEGER\n",
        ");\n",
        "\"\"\")\n",
        "\n",
        "cursor.execute(\"\"\"\n",
        "CREATE TABLE IF NOT EXISTS departments (\n",
        "    department_id INTEGER PRIMARY KEY,\n",
        "    name TEXT\n",
        ");\n",
        "\"\"\")\n",
        "\n"
      ]
    },
    {
      "cell_type": "code",
      "source": [
        "cursor.executemany(\"\"\"\n",
        "INSERT INTO employees (emp_id, name, last_name, salary, manager_id, department_id)\n",
        "VALUES (?, ?, ?, ?, ?, ?)\n",
        "\"\"\", [\n",
        "    (1, 'John', 'Doe', 4500, 102, 1),\n",
        "    (2, 'Jane', 'Smith', 3000, 103, 2),\n",
        "    (3, 'Alice', 'Johnson', 5000, 101, 1),\n",
        "    (4, 'Bob', 'Brown', 2500, 104, 3),\n",
        "    (5, 'Charlie', 'Davis', 4000, 200, 2)\n",
        "])\n",
        "\n",
        "cursor.executemany(\"\"\"\n",
        "INSERT INTO departments (department_id, name)\n",
        "VALUES (?, ?)\n",
        "\"\"\", [\n",
        "    (1, 'HR'),\n",
        "    (2, 'Engineering'),\n",
        "    (3, 'Marketing')\n",
        "])\n",
        "\n",
        "connection.commit()"
      ],
      "metadata": {
        "id": "bn0gC_4AaBeF"
      },
      "id": "bn0gC_4AaBeF",
      "execution_count": 13,
      "outputs": []
    },
    {
      "cell_type": "markdown",
      "source": [
        "# task 1"
      ],
      "metadata": {
        "id": "UznUKA8jatYt"
      },
      "id": "UznUKA8jatYt"
    },
    {
      "cell_type": "code",
      "source": [
        "query1 = \"\"\"\n",
        "SELECT emp_id, last_name, salary\n",
        "FROM employees\n",
        "WHERE salary BETWEEN 2000 AND 5000\n",
        "  AND manager_id NOT IN (101, 200);\n",
        "\"\"\"\n",
        "\n",
        "cursor.execute(query1)\n",
        "cursor.fetchall()"
      ],
      "metadata": {
        "colab": {
          "base_uri": "https://localhost:8080/"
        },
        "id": "I79pU75Lagko",
        "outputId": "ff543023-3764-441b-d365-0d97c91abf26"
      },
      "id": "I79pU75Lagko",
      "execution_count": 14,
      "outputs": [
        {
          "output_type": "execute_result",
          "data": {
            "text/plain": [
              "[(1, 'Doe', 4500.0), (2, 'Smith', 3000.0), (4, 'Brown', 2500.0)]"
            ]
          },
          "metadata": {},
          "execution_count": 14
        }
      ]
    },
    {
      "cell_type": "markdown",
      "source": [
        "# task 2"
      ],
      "metadata": {
        "id": "WJKpdxPEan8L"
      },
      "id": "WJKpdxPEan8L"
    },
    {
      "cell_type": "code",
      "source": [
        "query2 = \"\"\"\n",
        "SELECT e.name AS employee_name, d.name AS department_name\n",
        "FROM employees e\n",
        "INNER JOIN departments d ON e.department_id = d.department_id\n",
        "ORDER BY department_name ASC;\n",
        "\"\"\"\n",
        "\n",
        "cursor.execute(query2)\n",
        "cursor.fetchall()\n"
      ],
      "metadata": {
        "colab": {
          "base_uri": "https://localhost:8080/"
        },
        "id": "Vc9kmH6sahkS",
        "outputId": "f6f4e8ba-a8ad-4b2b-f4ed-45173fc9e57c"
      },
      "id": "Vc9kmH6sahkS",
      "execution_count": 15,
      "outputs": [
        {
          "output_type": "execute_result",
          "data": {
            "text/plain": [
              "[('Jane', 'Engineering'),\n",
              " ('Charlie', 'Engineering'),\n",
              " ('John', 'HR'),\n",
              " ('Alice', 'HR'),\n",
              " ('Bob', 'Marketing')]"
            ]
          },
          "metadata": {},
          "execution_count": 15
        }
      ]
    },
    {
      "cell_type": "markdown",
      "source": [
        "# task 3"
      ],
      "metadata": {
        "id": "0jnBOK3aa3PO"
      },
      "id": "0jnBOK3aa3PO"
    },
    {
      "cell_type": "code",
      "source": [
        "query3 = \"\"\"\n",
        "SELECT department_id,\n",
        "       COUNT(*) AS num_employees,\n",
        "       AVG(salary) AS avg_salary\n",
        "FROM employees\n",
        "GROUP BY department_id;\n",
        "\"\"\"\n",
        "\n",
        "cursor.execute(query3)\n",
        "cursor.fetchall()\n",
        "\n"
      ],
      "metadata": {
        "colab": {
          "base_uri": "https://localhost:8080/"
        },
        "id": "aqQtkVEYa5ZW",
        "outputId": "f3a24442-70c0-4aff-859f-ae634cfb92fa"
      },
      "id": "aqQtkVEYa5ZW",
      "execution_count": 16,
      "outputs": [
        {
          "output_type": "execute_result",
          "data": {
            "text/plain": [
              "[(1, 2, 4750.0), (2, 2, 3500.0), (3, 1, 2500.0)]"
            ]
          },
          "metadata": {},
          "execution_count": 16
        }
      ]
    },
    {
      "cell_type": "code",
      "source": [
        "connection.close()"
      ],
      "metadata": {
        "id": "5G-qF5t3b9Tw"
      },
      "id": "5G-qF5t3b9Tw",
      "execution_count": 17,
      "outputs": []
    }
  ],
  "metadata": {
    "colab": {
      "provenance": []
    },
    "language_info": {
      "name": "python"
    },
    "kernelspec": {
      "name": "python3",
      "display_name": "Python 3"
    }
  },
  "nbformat": 4,
  "nbformat_minor": 5
}